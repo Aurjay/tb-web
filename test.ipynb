{
 "cells": [
  {
   "cell_type": "markdown",
   "id": "a03341cc",
   "metadata": {},
   "source": [
    "# Import Packages"
   ]
  },
  {
   "cell_type": "code",
   "execution_count": 1,
   "id": "c472f9c1",
   "metadata": {},
   "outputs": [],
   "source": [
    "#pip install rainflow\n",
    "import pandas as pd\n",
    "import rainflow\n",
    "from math import sin, cos\n",
    "import matplotlib.pyplot as plt\n",
    "import boto3\n",
    "import botocore\n",
    "import zipfile\n",
    "import palmgren_miner\n",
    "import numpy as np\n",
    "\n",
    "\n",
    "%reload_ext autoreload\n",
    "%autoreload 2"
   ]
  },
  {
   "cell_type": "markdown",
   "id": "8c9a5f25-ea72-48fe-959a-3691f1b59d2c",
   "metadata": {},
   "source": [
    "## S3 Bucket connection"
   ]
  },
  {
   "cell_type": "code",
   "execution_count": 2,
   "id": "d055f7de-904c-4989-98cf-d6b4ab2b07e2",
   "metadata": {},
   "outputs": [],
   "source": [
    "# s3 = boto3.resource('s3')\n",
    "# bucket = s3.Bucket('tum-di-lab-prod-transistor-timeseries')\n",
    "# print(bucket.objects)\n",
    "# BUCKET_NAME = 'tum-di-lab-prod-transistor-timeseries'  # Replace with your bucket name\n",
    "# KEY = 'config33/transistor_0.zip'  # Replace with your object key (file path in the bucket)\n",
    "\n",
    "# s3 = boto3.resource('s3')\n",
    "\n",
    "# try:\n",
    "#     s3.Bucket(BUCKET_NAME).download_file(KEY, 'local_file.zip')\n",
    "#     print(\"File downloaded successfully.\")\n",
    "# except botocore.exceptions.ClientError as e:\n",
    "#     if e.response['Error']['Code'] == \"404\":\n",
    "#         print(\"The object does not exist.\")\n",
    "#     else:\n",
    "#         raise"
   ]
  },
  {
   "cell_type": "markdown",
   "id": "eb542122",
   "metadata": {},
   "source": [
    "## Read Temperature values of the transistor"
   ]
  },
  {
   "cell_type": "code",
   "execution_count": 3,
   "id": "dbdf55c1-ee0f-4a17-8a6e-e9343a538103",
   "metadata": {},
   "outputs": [
    {
     "name": "stdout",
     "output_type": "stream",
     "text": [
      "             timestamp  Temp transistor in K\n",
      "0  1580871766000000000            287.048744\n",
      "1  1580871767000000000            287.048744\n",
      "2  1580871768000000000            287.048744\n",
      "3  1580871769000000000            287.048744\n",
      "4  1580871770000000000            287.048744\n"
     ]
    }
   ],
   "source": [
    "# zip_path = 'local_file.zip'\n",
    "\n",
    "# # Extract the zip file\n",
    "# with zipfile.ZipFile(zip_path, 'r') as zip_ref:\n",
    "#     zip_ref.extractall('s3_bucket_data')\n",
    "\n",
    "# # Read the contents of the extracted files\n",
    "extracted_folder = 's3_bucket_data'\n",
    "file_path = extracted_folder + '/t_trans.csv'\n",
    "\n",
    "\n",
    "content = pd.read_csv(file_path, sep = \";\")\n",
    "\n",
    "# Print the content\n",
    "print(content.head())"
   ]
  },
  {
   "cell_type": "code",
   "execution_count": 4,
   "id": "69cdf56b",
   "metadata": {},
   "outputs": [
    {
     "data": {
      "text/plain": [
       "0           287.048744\n",
       "1           287.048744\n",
       "2           287.048744\n",
       "3           287.048744\n",
       "4           287.048744\n",
       "               ...    \n",
       "93231723    285.695157\n",
       "93231724    285.695157\n",
       "93231725    285.695157\n",
       "93231726    285.695157\n",
       "93231727    285.695157\n",
       "Name: Temp transistor in K, Length: 93231728, dtype: float64"
      ]
     },
     "execution_count": 4,
     "metadata": {},
     "output_type": "execute_result"
    }
   ],
   "source": [
    "series_a = content.iloc[:,1] \n",
    "content[\"Temp transistor in K\"]"
   ]
  },
  {
   "cell_type": "markdown",
   "id": "5323ea9d-f589-4599-9850-bc00e6982558",
   "metadata": {},
   "source": [
    "# Linear Model"
   ]
  },
  {
   "cell_type": "markdown",
   "id": "821ee831-ae20-4f2e-ba74-ff4265b21fd3",
   "metadata": {},
   "source": [
    "## Preprocess"
   ]
  },
  {
   "cell_type": "code",
   "execution_count": 5,
   "id": "a4f5ffcd-037e-4d4c-b589-c90a39c08052",
   "metadata": {},
   "outputs": [],
   "source": [
    "from sklearn.model_selection import train_test_split\n",
    "from sklearn.linear_model import LinearRegression"
   ]
  },
  {
   "cell_type": "code",
   "execution_count": 6,
   "id": "783d2c2f-0e53-4b22-adc0-e47eff365af5",
   "metadata": {},
   "outputs": [],
   "source": [
    "failure_time = len(series_a)\n",
    "time_data = np.arange(failure_time)\n",
    "time_to_failure = np.maximum(0, failure_time - time_data)"
   ]
  },
  {
   "cell_type": "code",
   "execution_count": 7,
   "id": "37547e89-860e-4ef2-8396-4a3c9f0d3f1b",
   "metadata": {},
   "outputs": [],
   "source": [
    "timestamps = pd.to_datetime(content['timestamp'], unit='ns')\n",
    "temperatures = content['Temp transistor in K']\n",
    "\n",
    "# Rainflow analysis\n",
    "# binsize is used to count them in a more compact form\n",
    "cycles = rainflow.count_cycles(temperatures, binsize=5)   # Range, count"
   ]
  },
  {
   "cell_type": "code",
   "execution_count": 8,
   "id": "2e2eae17-a7eb-456e-891f-051806dd8b74",
   "metadata": {},
   "outputs": [
    {
     "data": {
      "text/plain": [
       "[(5, 10671631.0),\n",
       " (10, 2281453.0),\n",
       " (15, 813742.0),\n",
       " (20, 388753.0),\n",
       " (25, 151971.0),\n",
       " (30, 38224.0),\n",
       " (35, 4504.0),\n",
       " (40, 23.0),\n",
       " (45, 0.0),\n",
       " (50, 0.0),\n",
       " (55, 0.0),\n",
       " (60, 0.0),\n",
       " (65, 850.5),\n",
       " (70, 225.5),\n",
       " (75, 3.0)]"
      ]
     },
     "execution_count": 8,
     "metadata": {},
     "output_type": "execute_result"
    }
   ],
   "source": [
    "# Bin weight needs to be paramater\n",
    "# Cycles for whole time series data\n",
    "cycles"
   ]
  },
  {
   "cell_type": "code",
   "execution_count": 9,
   "id": "ee907ee2-5147-4843-a8b9-d8dd3d47092c",
   "metadata": {},
   "outputs": [],
   "source": [
    "import numpy as np\n",
    "import rainflow\n",
    "from sklearn import metrics\n",
    "\n",
    "# TODO: There is some overlap, try to find a good window and step size \n",
    "window_size = 1000  # Adjust this according to data\n",
    "step_size = 100  # Adjust this according to data\n",
    "\n",
    "rainflow_counts = []\n",
    "\n",
    "# Create rolling window\n",
    "for start in range(0, len(temperatures) - window_size + 1, step_size):\n",
    "    window = temperatures[start:start+window_size]\n",
    "    counts = rainflow.count_cycles(window, binsize=5)\n",
    "    \n",
    "    # These weights need to be adjusted or learned for Yana\n",
    "    # weighted rainflow counts. It's essentially calculating a weighted sum where each count is multiplied by the corresponding bin weight (which is the bin's temperature range in this case)\n",
    "    total_weighted_count = sum(count*bin_weight for bin_weight, count in counts)\n",
    "    rainflow_counts.append(total_weighted_count)\n",
    "\n",
    "rainflow_counts_array = np.array(rainflow_counts)"
   ]
  },
  {
   "cell_type": "code",
   "execution_count": 10,
   "id": "ef7e3a01-bdc1-45e1-afb8-1b77682317da",
   "metadata": {},
   "outputs": [],
   "source": [
    "# 1. Generate 'time-to-failure' for prediction\n",
    "failure_time = len(temperatures)  # assuming the end of the series is the failure time\n",
    "time_to_failure = np.maximum(0, failure_time - np.arange(len(rainflow_counts_array))*step_size)\n",
    "\n",
    "# 2. Generate the cumulative sum of the cycles in each iteration\n",
    "rainflow_counts_cumsum = np.cumsum(rainflow_counts_array)"
   ]
  },
  {
   "cell_type": "markdown",
   "id": "f6859306-a9c5-403c-a6a9-52abc4b9dfbd",
   "metadata": {},
   "source": [
    "## Training and Error Analysis"
   ]
  },
  {
   "cell_type": "code",
   "execution_count": 11,
   "id": "a4f96a47-0d2d-4882-ba6f-d44db672205e",
   "metadata": {},
   "outputs": [
    {
     "name": "stdout",
     "output_type": "stream",
     "text": [
      "Mean Absolute Error: 9238.605056627195\n",
      "Mean Squared Error: 119847427.3771476\n",
      "Root Mean Squared Error: 10947.484979535144\n",
      "R-squared: 0.9999958635356503\n"
     ]
    }
   ],
   "source": [
    "# Do a temporal train-test split\n",
    "# Change it to sampling 80-20 and 80-20 .. 80-20\n",
    "split_time = int(len(rainflow_counts_cumsum) * 0.8)  # 80% for training, adjust as needed\n",
    "\n",
    "# Add other parameters, features\n",
    "X_train = rainflow_counts_cumsum[:split_time].reshape(-1, 1)\n",
    "y_train = time_to_failure[:split_time]\n",
    "X_test = rainflow_counts_cumsum[split_time:].reshape(-1, 1)\n",
    "y_test = time_to_failure[split_time:]\n",
    "\n",
    "# AutoRegression, check it if that is better\n",
    "# Train the model\n",
    "regressor = LinearRegression()\n",
    "regressor.fit(X_train, y_train)\n",
    "\n",
    "# Test the performance\n",
    "y_pred = regressor.predict(X_test)\n",
    "print('Mean Absolute Error:', metrics.mean_absolute_error(y_test, y_pred))\n",
    "print('Mean Squared Error:', metrics.mean_squared_error(y_test, y_pred))\n",
    "print('Root Mean Squared Error:', np.sqrt(metrics.mean_squared_error(y_test, y_pred)))\n",
    "print('R-squared:', metrics.r2_score(y_test, y_pred))"
   ]
  },
  {
   "cell_type": "code",
   "execution_count": 12,
   "id": "d50cada6-cb14-480b-ba6e-2388285f8c74",
   "metadata": {},
   "outputs": [
    {
     "data": {
      "text/plain": [
       "array([20076.164354, 20076.164354, 20076.164354, 20076.164354,\n",
       "       20076.164354, 20076.164354, 20076.164354, 20076.164354,\n",
       "       20076.164354, 20076.164354, 20076.164354, 20076.164354,\n",
       "       20076.164354, 20076.164354, 20076.164354, 20076.164354,\n",
       "       20076.164354, 20076.164354, 20076.164354, 20076.164354,\n",
       "       20076.164354, 20076.164354, 20076.164354, 20076.164354,\n",
       "       20076.164354, 20076.164354, 20076.164354, 20076.164354,\n",
       "       20076.164354, 20076.164354, 20076.164354, 20076.164354,\n",
       "       20076.164354, 20076.164354, 20076.164354, 20076.164354,\n",
       "       20076.164354, 20076.164354, 20076.164354, 20076.164354,\n",
       "       20076.164354, 20076.164354, 20076.164354, 20076.164354,\n",
       "       20076.164354, 20076.164354, 20076.164354, 20076.164354,\n",
       "       20076.164354, 20076.164354, 20076.164354, 20076.164354,\n",
       "       20076.164354, 20076.164354, 20076.164354, 20076.164354,\n",
       "       20076.164354, 20076.164354, 20076.164354, 20076.164354,\n",
       "       20076.164354, 20076.164354, 20076.164354, 20076.164354,\n",
       "       20076.164354, 20076.164354, 20076.164354, 20076.164354,\n",
       "       20076.164354, 20076.164354, 20076.164354, 20076.164354,\n",
       "       20076.164354, 20076.164354, 20076.164354, 20076.164354,\n",
       "       20076.164354, 20076.164354, 20076.164354, 20076.164354,\n",
       "       20076.164354, 20076.164354, 20076.164354, 20076.164354,\n",
       "       20076.164354, 20076.164354, 20076.164354, 20076.164354,\n",
       "       20076.164354, 20076.164354, 20076.164354, 20076.164354,\n",
       "       20076.164354, 20076.164354, 20076.164354, 20076.164354,\n",
       "       20076.164354, 20076.164354, 20076.164354])"
      ]
     },
     "execution_count": 12,
     "metadata": {},
     "output_type": "execute_result"
    }
   ],
   "source": [
    "# Outpur of the model\n",
    "y_pred[-100:-1]"
   ]
  },
  {
   "cell_type": "code",
   "execution_count": 13,
   "id": "ece516ee-6c36-4c6d-a966-8d169245c75d",
   "metadata": {},
   "outputs": [
    {
     "data": {
      "text/plain": [
       "array([0.97845605, 0.9784563 , 0.97845654, 0.97845679, 0.97845704,\n",
       "       0.97845728, 0.97845753, 0.97845778, 0.97845802, 0.97845827,\n",
       "       0.97845852, 0.97845877, 0.97845901, 0.97845926, 0.97845951,\n",
       "       0.97845975, 0.97846   , 0.97846025, 0.97846049, 0.97846074,\n",
       "       0.97846099, 0.97846123, 0.97846148, 0.97846173, 0.97846197,\n",
       "       0.97846222, 0.97846247, 0.97846271, 0.97846296, 0.97846321,\n",
       "       0.97846345, 0.9784637 , 0.97846395, 0.97846419, 0.97846444,\n",
       "       0.97846469, 0.97846493, 0.97846518, 0.97846543, 0.97846567,\n",
       "       0.97846592, 0.97846617, 0.97846617, 0.97846617, 0.97846617,\n",
       "       0.97846617, 0.97846617, 0.97846617, 0.97846617, 0.97846617,\n",
       "       0.97846617, 0.97846617, 0.97846617, 0.97846617, 0.97846617,\n",
       "       0.97846617, 0.97846617, 0.97846617, 0.97846617, 0.97846617,\n",
       "       0.97846617, 0.97846617, 0.97846617, 0.97846617, 0.97846617,\n",
       "       0.97846617, 0.97846617, 0.97846617, 0.97846617, 0.97846617,\n",
       "       0.97846617, 0.97846617, 0.97846617, 0.97846617, 0.97846617,\n",
       "       0.97846617, 0.97846617, 0.97846617, 0.97846617, 0.97846617,\n",
       "       0.97846617, 0.97846617, 0.97846617, 0.97846617, 0.97846617,\n",
       "       0.97846617, 0.97846617, 0.97846617, 0.97846617, 0.97846617,\n",
       "       0.97846617, 0.97846617, 0.97846617, 0.97846617, 0.97846617,\n",
       "       0.97846617, 0.97846617, 0.97846617, 0.97846617, 0.97846617,\n",
       "       0.97846617, 0.97846617, 0.97846617, 0.97846617, 0.97846617,\n",
       "       0.97846617, 0.97846617, 0.97846617, 0.97846617, 0.97846617,\n",
       "       0.97846617, 0.97846617, 0.97846617, 0.97846617, 0.97846617,\n",
       "       0.97846617, 0.97846617, 0.97846617, 0.97846617, 0.97846617,\n",
       "       0.97846617, 0.97846617, 0.97846617, 0.97846617, 0.97846617,\n",
       "       0.97846617, 0.97846617, 0.97846617, 0.97846617, 0.97846617,\n",
       "       0.97846617, 0.97846617, 0.97846617, 0.97846617, 0.97846617,\n",
       "       0.97846617, 0.97846617, 0.97846617, 0.97846617, 0.97846617,\n",
       "       0.97846617, 0.97846617, 0.97846617, 0.97846617, 0.97846617,\n",
       "       0.97846617, 0.97846617, 0.97846617, 0.97846617, 0.97846617,\n",
       "       0.97846617, 0.97846617, 0.97846617, 0.97846617, 0.97846617,\n",
       "       0.97846617, 0.97846617, 0.97846617, 0.97846617, 0.97846617,\n",
       "       0.97846617, 0.97846617, 0.97846617, 0.97846617, 0.97846617,\n",
       "       0.97846617, 0.97846617, 0.97846617, 0.97846617, 0.97846617,\n",
       "       0.97846617, 0.97846617, 0.97846617, 0.97846617, 0.97846617,\n",
       "       0.97846617, 0.97846617, 0.97846617, 0.97846617, 0.97846617,\n",
       "       0.97846617, 0.97846617, 0.97846617, 0.97846617, 0.97846617,\n",
       "       0.97846617, 0.97846617, 0.97846617, 0.97846617, 0.97846617,\n",
       "       0.97846617, 0.97846617, 0.97846617, 0.97846617, 0.97846617,\n",
       "       0.97846617, 0.97846617, 0.97846617, 0.97846617])"
      ]
     },
     "execution_count": 13,
     "metadata": {},
     "output_type": "execute_result"
    }
   ],
   "source": [
    "# Processes the model output to have more meaningfull result\n",
    "failure_rate = 1 - y_pred/len(rainflow_counts_array)\n",
    "failure_rate[-200:-1]"
   ]
  },
  {
   "cell_type": "markdown",
   "id": "8adbc215-62cd-4747-b505-90113aaf871e",
   "metadata": {},
   "source": [
    "## Palmgren Miner"
   ]
  },
  {
   "cell_type": "code",
   "execution_count": 18,
   "id": "e50c064a-6281-457b-90e2-853ad53e0bd7",
   "metadata": {},
   "outputs": [
    {
     "name": "stdout",
     "output_type": "stream",
     "text": [
      "Remaining Lifetime: -405682.63850400003\n",
      "Cumulative Damage Ratio: 1.435138\n"
     ]
    }
   ],
   "source": [
    "palmgren_miner.palmgren_miner(content, fatigue_life = 10000000, total_lifetime = len(rainflow_counts_array))"
   ]
  },
  {
   "cell_type": "markdown",
   "id": "31fc9f58",
   "metadata": {},
   "source": [
    "## Apply the rainflow algorithm"
   ]
  },
  {
   "cell_type": "code",
   "execution_count": 15,
   "id": "1a4e47fb",
   "metadata": {},
   "outputs": [
    {
     "name": "stdout",
     "output_type": "stream",
     "text": [
      "range: 1.85080  mean: 300.75217  count= full cycle  start index: 6450.00000  end index: 6458.00000\n",
      "range: 2.09808  mean: 302.32800  count= full cycle  start index: 6459.00000  end index: 6462.00000\n",
      "range: 2.92751  mean: 305.63331  count= full cycle  start index: 6464.00000  end index: 6467.00000\n",
      "range: 3.67638  mean: 305.92734  count= full cycle  start index: 6468.00000  end index: 6471.00000\n",
      "range: 4.35469  mean: 312.06349  count= full cycle  start index: 6483.00000  end index: 6484.00000\n",
      "range: 7.01114  mean: 311.95259  count= full cycle  start index: 6479.00000  end index: 6481.00000\n",
      "range: 5.51893  mean: 310.47359  count= full cycle  start index: 6496.00000  end index: 6501.00000\n",
      "range: 8.27594  mean: 309.43686  count= full cycle  start index: 6503.00000  end index: 6507.00000\n",
      "range: 2.49972  mean: 312.68657  count= full cycle  start index: 6509.00000  end index: 6511.00000\n",
      "range: 2.99880  mean: 313.33983  count= full cycle  start index: 6512.00000  end index: 6513.00000\n",
      "range: 4.35136  mean: 313.05593  count= full cycle  start index: 6518.00000  end index: 6520.00000\n",
      "range: 2.06594  mean: 313.82204  count= full cycle  start index: 6526.00000  end index: 6527.00000\n",
      "range: 7.32873  mean: 311.80212  count= full cycle  start index: 6533.00000  end index: 6535.00000\n",
      "range: 2.87187  mean: 313.57076  count= full cycle  start index: 6540.00000  end index: 6542.00000\n",
      "range: 8.77630  mean: 312.47154  count= full cycle  start index: 6528.00000  end index: 6538.00000\n",
      "range: 8.86781  mean: 312.49292  count= full cycle  start index: 6516.00000  end index: 6524.00000\n",
      "range: 14.08651  mean: 311.83250  count= full cycle  start index: 6474.00000  end index: 6490.00000\n",
      "range: 1.60424  mean: 317.64426  count= full cycle  start index: 6553.00000  end index: 6554.00000\n",
      "range: 2.84089  mean: 317.63256  count= full cycle  start index: 6557.00000  end index: 6558.00000\n",
      "range: 7.36338  mean: 316.68049  count= full cycle  start index: 6549.00000  end index: 6552.00000\n",
      "range: 3.07428  mean: 316.69853  count= full cycle  start index: 6567.00000  end index: 6568.00000\n",
      "range: 13.65182  mean: 315.83225  count= full cycle  start index: 6544.00000  end index: 6564.00000\n",
      "range: 3.03950  mean: 324.41512  count= full cycle  start index: 6576.00000  end index: 6577.00000\n",
      "range: 21.72523  mean: 316.45690  count= full cycle  start index: 6575.00000  end index: 6588.00000\n"
     ]
    }
   ],
   "source": [
    "x_axis = []\n",
    "y_axis = []\n",
    "for rng, mean, count, i_start, i_end in rainflow.extract_cycles(series_a): \n",
    "    if rng >= 1.5 and i_end <= 6600:\n",
    "        print(\"range:\", \"{:.5f}\".format(rng),\" mean:\", \"{:.5f}\".format(mean), \" count=\", \"full cycle\" if count == 1.0 else \"half cycle\", \" start index:\", \"{:.5f}\".format(i_start), \" end index:\", \"{:.5f}\".format(i_end))\n",
    "        x_axis.append(int(i_start))\n",
    "        y_axis.append((series_a[i_start]))\n",
    "        x_axis.append(int(i_end))\n",
    "        y_axis.append((series_a[i_end]))"
   ]
  },
  {
   "cell_type": "markdown",
   "id": "1ed9c5b1",
   "metadata": {},
   "source": [
    "## Indicate the T_{i} and T_{e} in a specific range"
   ]
  },
  {
   "cell_type": "code",
   "execution_count": 7,
   "id": "f492cf8d",
   "metadata": {},
   "outputs": [
    {
     "data": {
      "image/png": "[encoded data removed]",
      "text/plain": [
       "<Figure size 1500x1500 with 1 Axes>"
      ]
     },
     "metadata": {},
     "output_type": "display_data"
    }
   ],
   "source": [
    "rainflow.count_cycles(series_a, binsize=0.5)\n",
    "series_a[6450:6600].plot(figsize=(15, 15))\n",
    "plt.plot(x_axis, y_axis, 'ro')\n",
    "plt.show()\n"
   ]
  },
  {
   "cell_type": "markdown",
   "id": "60a6cf2b",
   "metadata": {},
   "source": [
    "## Check data coming from S3"
   ]
  },
  {
   "cell_type": "code",
   "execution_count": 8,
   "id": "9c28bf75",
   "metadata": {},
   "outputs": [
    {
     "data": {
      "text/html": [
       "<div>\n",
       "<style scoped>\n",
       "    .dataframe tbody tr th:only-of-type {\n",
       "        vertical-align: middle;\n",
       "    }\n",
       "\n",
       "    .dataframe tbody tr th {\n",
       "        vertical-align: top;\n",
       "    }\n",
       "\n",
       "    .dataframe thead th {\n",
       "        text-align: right;\n",
       "    }\n",
       "</style>\n",
       "<table border=\"1\" class=\"dataframe\">\n",
       "  <thead>\n",
       "    <tr style=\"text-align: right;\">\n",
       "      <th></th>\n",
       "      <th>timestamp;Base Failure Rate</th>\n",
       "    </tr>\n",
       "  </thead>\n",
       "  <tbody>\n",
       "    <tr>\n",
       "      <th>0</th>\n",
       "      <td>1580871766000000000;0.018493972072519457</td>\n",
       "    </tr>\n",
       "    <tr>\n",
       "      <th>1</th>\n",
       "      <td>1580871767000000000;0.018493972072519457</td>\n",
       "    </tr>\n",
       "    <tr>\n",
       "      <th>2</th>\n",
       "      <td>1580871768000000000;0.018493972072519457</td>\n",
       "    </tr>\n",
       "    <tr>\n",
       "      <th>3</th>\n",
       "      <td>1580871769000000000;0.018493972072519457</td>\n",
       "    </tr>\n",
       "    <tr>\n",
       "      <th>4</th>\n",
       "      <td>1580871770000000000;0.018493972072519457</td>\n",
       "    </tr>\n",
       "  </tbody>\n",
       "</table>\n",
       "</div>"
      ],
      "text/plain": [
       "                timestamp;Base Failure Rate\n",
       "0  1580871766000000000;0.018493972072519457\n",
       "1  1580871767000000000;0.018493972072519457\n",
       "2  1580871768000000000;0.018493972072519457\n",
       "3  1580871769000000000;0.018493972072519457\n",
       "4  1580871770000000000;0.018493972072519457"
      ]
     },
     "execution_count": 8,
     "metadata": {},
     "output_type": "execute_result"
    }
   ],
   "source": [
    "pd.read_csv(\"transistor_0/bfr.csv\", nrows=5)"
   ]
  },
  {
   "cell_type": "code",
   "execution_count": 9,
   "id": "b17e2e7b",
   "metadata": {},
   "outputs": [
    {
     "data": {
      "text/html": [
       "<div>\n",
       "<style scoped>\n",
       "    .dataframe tbody tr th:only-of-type {\n",
       "        vertical-align: middle;\n",
       "    }\n",
       "\n",
       "    .dataframe tbody tr th {\n",
       "        vertical-align: top;\n",
       "    }\n",
       "\n",
       "    .dataframe thead th {\n",
       "        text-align: right;\n",
       "    }\n",
       "</style>\n",
       "<table border=\"1\" class=\"dataframe\">\n",
       "  <thead>\n",
       "    <tr style=\"text-align: right;\">\n",
       "      <th></th>\n",
       "      <th>timestamp;Accumulated Damage</th>\n",
       "    </tr>\n",
       "  </thead>\n",
       "  <tbody>\n",
       "    <tr>\n",
       "      <th>0</th>\n",
       "      <td>1580871766000000000;0.0</td>\n",
       "    </tr>\n",
       "    <tr>\n",
       "      <th>1</th>\n",
       "      <td>1580871767000000000;0.0</td>\n",
       "    </tr>\n",
       "    <tr>\n",
       "      <th>2</th>\n",
       "      <td>1580871768000000000;0.0</td>\n",
       "    </tr>\n",
       "    <tr>\n",
       "      <th>3</th>\n",
       "      <td>1580871769000000000;0.0</td>\n",
       "    </tr>\n",
       "    <tr>\n",
       "      <th>4</th>\n",
       "      <td>1580871770000000000;0.0</td>\n",
       "    </tr>\n",
       "  </tbody>\n",
       "</table>\n",
       "</div>"
      ],
      "text/plain": [
       "  timestamp;Accumulated Damage\n",
       "0      1580871766000000000;0.0\n",
       "1      1580871767000000000;0.0\n",
       "2      1580871768000000000;0.0\n",
       "3      1580871769000000000;0.0\n",
       "4      1580871770000000000;0.0"
      ]
     },
     "execution_count": 9,
     "metadata": {},
     "output_type": "execute_result"
    }
   ],
   "source": [
    "pd.read_csv(\"transistor_0/damage.csv\", nrows=5)"
   ]
  },
  {
   "cell_type": "code",
   "execution_count": 10,
   "id": "754a807c",
   "metadata": {},
   "outputs": [
    {
     "data": {
      "text/html": [
       "<div>\n",
       "<style scoped>\n",
       "    .dataframe tbody tr th:only-of-type {\n",
       "        vertical-align: middle;\n",
       "    }\n",
       "\n",
       "    .dataframe tbody tr th {\n",
       "        vertical-align: top;\n",
       "    }\n",
       "\n",
       "    .dataframe thead th {\n",
       "        text-align: right;\n",
       "    }\n",
       "</style>\n",
       "<table border=\"1\" class=\"dataframe\">\n",
       "  <thead>\n",
       "    <tr style=\"text-align: right;\">\n",
       "      <th></th>\n",
       "      <th>timestamp;Power Consumption in W</th>\n",
       "    </tr>\n",
       "  </thead>\n",
       "  <tbody>\n",
       "    <tr>\n",
       "      <th>0</th>\n",
       "      <td>1580871766000000000;0.0</td>\n",
       "    </tr>\n",
       "    <tr>\n",
       "      <th>1</th>\n",
       "      <td>1580871767000000000;0.0</td>\n",
       "    </tr>\n",
       "    <tr>\n",
       "      <th>2</th>\n",
       "      <td>1580871768000000000;0.0</td>\n",
       "    </tr>\n",
       "    <tr>\n",
       "      <th>3</th>\n",
       "      <td>1580871769000000000;0.0</td>\n",
       "    </tr>\n",
       "    <tr>\n",
       "      <th>4</th>\n",
       "      <td>1580871770000000000;0.0</td>\n",
       "    </tr>\n",
       "  </tbody>\n",
       "</table>\n",
       "</div>"
      ],
      "text/plain": [
       "  timestamp;Power Consumption in W\n",
       "0          1580871766000000000;0.0\n",
       "1          1580871767000000000;0.0\n",
       "2          1580871768000000000;0.0\n",
       "3          1580871769000000000;0.0\n",
       "4          1580871770000000000;0.0"
      ]
     },
     "execution_count": 10,
     "metadata": {},
     "output_type": "execute_result"
    }
   ],
   "source": [
    "pd.read_csv(\"transistor_0/power.csv\", nrows=5)"
   ]
  },
  {
   "cell_type": "code",
   "execution_count": 11,
   "id": "31392208",
   "metadata": {},
   "outputs": [
    {
     "data": {
      "text/html": [
       "<div>\n",
       "<style scoped>\n",
       "    .dataframe tbody tr th:only-of-type {\n",
       "        vertical-align: middle;\n",
       "    }\n",
       "\n",
       "    .dataframe tbody tr th {\n",
       "        vertical-align: top;\n",
       "    }\n",
       "\n",
       "    .dataframe thead th {\n",
       "        text-align: right;\n",
       "    }\n",
       "</style>\n",
       "<table border=\"1\" class=\"dataframe\">\n",
       "  <thead>\n",
       "    <tr style=\"text-align: right;\">\n",
       "      <th></th>\n",
       "      <th>timestamp;Risk of Failure per Step</th>\n",
       "    </tr>\n",
       "  </thead>\n",
       "  <tbody>\n",
       "    <tr>\n",
       "      <th>0</th>\n",
       "      <td>1580871766000000000;5.810831815722395e-10</td>\n",
       "    </tr>\n",
       "    <tr>\n",
       "      <th>1</th>\n",
       "      <td>1580871767000000000;5.810831815722395e-10</td>\n",
       "    </tr>\n",
       "    <tr>\n",
       "      <th>2</th>\n",
       "      <td>1580871768000000000;5.810831815722395e-10</td>\n",
       "    </tr>\n",
       "    <tr>\n",
       "      <th>3</th>\n",
       "      <td>1580871769000000000;5.810831815722395e-10</td>\n",
       "    </tr>\n",
       "    <tr>\n",
       "      <th>4</th>\n",
       "      <td>1580871770000000000;5.810831815722395e-10</td>\n",
       "    </tr>\n",
       "  </tbody>\n",
       "</table>\n",
       "</div>"
      ],
      "text/plain": [
       "          timestamp;Risk of Failure per Step\n",
       "0  1580871766000000000;5.810831815722395e-10\n",
       "1  1580871767000000000;5.810831815722395e-10\n",
       "2  1580871768000000000;5.810831815722395e-10\n",
       "3  1580871769000000000;5.810831815722395e-10\n",
       "4  1580871770000000000;5.810831815722395e-10"
      ]
     },
     "execution_count": 11,
     "metadata": {},
     "output_type": "execute_result"
    }
   ],
   "source": [
    "pd.read_csv(\"transistor_0/risk_of_failure.csv\", nrows=5)"
   ]
  },
  {
   "cell_type": "code",
   "execution_count": 12,
   "id": "29470d50",
   "metadata": {},
   "outputs": [
    {
     "data": {
      "text/html": [
       "<div>\n",
       "<style scoped>\n",
       "    .dataframe tbody tr th:only-of-type {\n",
       "        vertical-align: middle;\n",
       "    }\n",
       "\n",
       "    .dataframe tbody tr th {\n",
       "        vertical-align: top;\n",
       "    }\n",
       "\n",
       "    .dataframe thead th {\n",
       "        text-align: right;\n",
       "    }\n",
       "</style>\n",
       "<table border=\"1\" class=\"dataframe\">\n",
       "  <thead>\n",
       "    <tr style=\"text-align: right;\">\n",
       "      <th></th>\n",
       "      <th>timestamp;Temp cooler in K</th>\n",
       "    </tr>\n",
       "  </thead>\n",
       "  <tbody>\n",
       "    <tr>\n",
       "      <th>0</th>\n",
       "      <td>1580871766000000000;287.0487435328662</td>\n",
       "    </tr>\n",
       "    <tr>\n",
       "      <th>1</th>\n",
       "      <td>1580871767000000000;287.0487435328662</td>\n",
       "    </tr>\n",
       "    <tr>\n",
       "      <th>2</th>\n",
       "      <td>1580871768000000000;287.0487435328662</td>\n",
       "    </tr>\n",
       "    <tr>\n",
       "      <th>3</th>\n",
       "      <td>1580871769000000000;287.0487435328662</td>\n",
       "    </tr>\n",
       "    <tr>\n",
       "      <th>4</th>\n",
       "      <td>1580871770000000000;287.0487435328662</td>\n",
       "    </tr>\n",
       "  </tbody>\n",
       "</table>\n",
       "</div>"
      ],
      "text/plain": [
       "              timestamp;Temp cooler in K\n",
       "0  1580871766000000000;287.0487435328662\n",
       "1  1580871767000000000;287.0487435328662\n",
       "2  1580871768000000000;287.0487435328662\n",
       "3  1580871769000000000;287.0487435328662\n",
       "4  1580871770000000000;287.0487435328662"
      ]
     },
     "execution_count": 12,
     "metadata": {},
     "output_type": "execute_result"
    }
   ],
   "source": [
    "pd.read_csv(\"transistor_0/t_cool.csv\", nrows=5)"
   ]
  },
  {
   "cell_type": "code",
   "execution_count": 13,
   "id": "b0307006",
   "metadata": {},
   "outputs": [
    {
     "data": {
      "text/html": [
       "<div>\n",
       "<style scoped>\n",
       "    .dataframe tbody tr th:only-of-type {\n",
       "        vertical-align: middle;\n",
       "    }\n",
       "\n",
       "    .dataframe tbody tr th {\n",
       "        vertical-align: top;\n",
       "    }\n",
       "\n",
       "    .dataframe thead th {\n",
       "        text-align: right;\n",
       "    }\n",
       "</style>\n",
       "<table border=\"1\" class=\"dataframe\">\n",
       "  <thead>\n",
       "    <tr style=\"text-align: right;\">\n",
       "      <th></th>\n",
       "      <th>timestamp;Temp transistor in K</th>\n",
       "    </tr>\n",
       "  </thead>\n",
       "  <tbody>\n",
       "    <tr>\n",
       "      <th>0</th>\n",
       "      <td>1580871766000000000;287.0487435328662</td>\n",
       "    </tr>\n",
       "    <tr>\n",
       "      <th>1</th>\n",
       "      <td>1580871767000000000;287.0487435328662</td>\n",
       "    </tr>\n",
       "    <tr>\n",
       "      <th>2</th>\n",
       "      <td>1580871768000000000;287.0487435328662</td>\n",
       "    </tr>\n",
       "    <tr>\n",
       "      <th>3</th>\n",
       "      <td>1580871769000000000;287.0487435328662</td>\n",
       "    </tr>\n",
       "    <tr>\n",
       "      <th>4</th>\n",
       "      <td>1580871770000000000;287.0487435328662</td>\n",
       "    </tr>\n",
       "  </tbody>\n",
       "</table>\n",
       "</div>"
      ],
      "text/plain": [
       "          timestamp;Temp transistor in K\n",
       "0  1580871766000000000;287.0487435328662\n",
       "1  1580871767000000000;287.0487435328662\n",
       "2  1580871768000000000;287.0487435328662\n",
       "3  1580871769000000000;287.0487435328662\n",
       "4  1580871770000000000;287.0487435328662"
      ]
     },
     "execution_count": 13,
     "metadata": {},
     "output_type": "execute_result"
    }
   ],
   "source": [
    "pd.read_csv(\"transistor_0/t_trans.csv\", nrows=5)"
   ]
  },
  {
   "cell_type": "code",
   "execution_count": null,
   "id": "57f907d3-e7e8-4bec-bdaf-0e085f3fb93c",
   "metadata": {},
   "outputs": [],
   "source": []
  }
 ],
 "metadata": {
  "kernelspec": {
   "display_name": "Python 3 (ipykernel)",
   "language": "python",
   "name": "python3"
  },
  "language_info": {
   "codemirror_mode": {
    "name": "ipython",
    "version": 3
   },
   "file_extension": ".py",
   "mimetype": "text/x-python",
   "name": "python",
   "nbconvert_exporter": "python",
   "pygments_lexer": "ipython3",
   "version": "3.10.10"
  }
 },
 "nbformat": 4,
 "nbformat_minor": 5
}